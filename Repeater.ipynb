{
 "cells": [
  {
   "cell_type": "markdown",
   "metadata": {},
   "source": [
    "# Repeater\n",
    "### Create lists of the same thing repeated, numbered or not.\n",
    "##### List Maker coming soon (same thing but not repeated)"
   ]
  },
  {
   "cell_type": "code",
   "execution_count": 32,
   "metadata": {},
   "outputs": [],
   "source": [
    "def number():\n",
    "    a = input(\"What do you want to repeat? \")\n",
    "    b = int(input(\"How many times would you like to repeat it? \"))\n",
    "    x = range(1,b+1)\n",
    "    numbered = input(\"Would you like the list to be numbered? [y/n]\")\n",
    "    if numbered == 'y':\n",
    "        for n in x:\n",
    "            print('\\n', n, a)\n",
    "    elif numbered == 'n':\n",
    "        for n in x:\n",
    "            print('\\n', a)\n",
    "    elif numbered != 'y' or 'n':\n",
    "            numbered = input(\"Input not understood, would you like the list to be numbered? [y/n]\")\n",
    "            if numbered == 'y':\n",
    "                for n in x:\n",
    "                    print('\\n', n, a)\n",
    "            elif numbered == 'n':\n",
    "                for n in x:\n",
    "                    print('\\n', a)\n",
    "            else:\n",
    "                pass\n",
    "    else:\n",
    "        print(\"Input not understood, ending program.\")\n",
    "        pass"
   ]
  },
  {
   "cell_type": "code",
   "execution_count": 33,
   "metadata": {
    "scrolled": false
   },
   "outputs": [
    {
     "name": "stdout",
     "output_type": "stream",
     "text": [
      "What do you want to repeat? test\n",
      "How many times would you like to repeat it? 20\n",
      "Would you like the list to be numbered? [y/n]y\n",
      "\n",
      " 1 test\n",
      "\n",
      " 2 test\n",
      "\n",
      " 3 test\n",
      "\n",
      " 4 test\n",
      "\n",
      " 5 test\n",
      "\n",
      " 6 test\n",
      "\n",
      " 7 test\n",
      "\n",
      " 8 test\n",
      "\n",
      " 9 test\n",
      "\n",
      " 10 test\n",
      "\n",
      " 11 test\n",
      "\n",
      " 12 test\n",
      "\n",
      " 13 test\n",
      "\n",
      " 14 test\n",
      "\n",
      " 15 test\n",
      "\n",
      " 16 test\n",
      "\n",
      " 17 test\n",
      "\n",
      " 18 test\n",
      "\n",
      " 19 test\n",
      "\n",
      " 20 test\n"
     ]
    }
   ],
   "source": [
    "number()"
   ]
  }
 ],
 "metadata": {
  "kernelspec": {
   "display_name": "Python 3",
   "language": "python",
   "name": "python3"
  },
  "language_info": {
   "codemirror_mode": {
    "name": "ipython",
    "version": 3
   },
   "file_extension": ".py",
   "mimetype": "text/x-python",
   "name": "python",
   "nbconvert_exporter": "python",
   "pygments_lexer": "ipython3",
   "version": "3.7.4"
  }
 },
 "nbformat": 4,
 "nbformat_minor": 4
}
